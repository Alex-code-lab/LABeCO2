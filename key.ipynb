{
 "cells": [
  {
   "cell_type": "code",
   "execution_count": 2,
   "id": "fd0f61e8",
   "metadata": {},
   "outputs": [],
   "source": [
    "from cryptography.fernet import Fernet\n",
    "\n",
    "# Génère une clé de chiffrement (à faire une seule fois et garder précieusement)\n",
    "key = Fernet.generate_key()\n",
    "with open(\"key.key\", \"wb\") as key_file:\n",
    "    key_file.write(key)"
   ]
  },
  {
   "cell_type": "code",
   "execution_count": 3,
   "id": "767478fb",
   "metadata": {},
   "outputs": [
    {
     "data": {
      "text/plain": [
       "b'WZHrfa7pJidlvBqHy0pB5bNFxTpsFhd6qexTAzushMM='"
      ]
     },
     "execution_count": 3,
     "metadata": {},
     "output_type": "execute_result"
    }
   ],
   "source": [
    "key"
   ]
  },
  {
   "cell_type": "code",
   "execution_count": 4,
   "id": "670ad4bc",
   "metadata": {},
   "outputs": [],
   "source": [
    "fernet = Fernet(key)\n"
   ]
  },
  {
   "cell_type": "code",
   "execution_count": 5,
   "id": "ff0eafab",
   "metadata": {},
   "outputs": [
    {
     "data": {
      "text/plain": [
       "<cryptography.fernet.Fernet at 0x1093138d0>"
      ]
     },
     "execution_count": 5,
     "metadata": {},
     "output_type": "execute_result"
    }
   ],
   "source": [
    "fernet"
   ]
  },
  {
   "cell_type": "code",
   "execution_count": null,
   "id": "6184d3d4",
   "metadata": {},
   "outputs": [],
   "source": []
  }
 ],
 "metadata": {
  "kernelspec": {
   "display_name": "LABeCO2_env_test",
   "language": "python",
   "name": "python3"
  },
  "language_info": {
   "codemirror_mode": {
    "name": "ipython",
    "version": 3
   },
   "file_extension": ".py",
   "mimetype": "text/x-python",
   "name": "python",
   "nbconvert_exporter": "python",
   "pygments_lexer": "ipython3",
   "version": "3.11.11"
  }
 },
 "nbformat": 4,
 "nbformat_minor": 5
}
