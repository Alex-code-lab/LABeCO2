{
 "cells": [
  {
   "cell_type": "code",
   "execution_count": 4,
   "metadata": {},
   "outputs": [
    {
     "data": {
      "text/plain": [
       "'/Users/souchaud/Documents/Travail/Transition_ecologique/LABeCO2/data_masse_eCO2'"
      ]
     },
     "execution_count": 4,
     "metadata": {},
     "output_type": "execute_result"
    }
   ],
   "source": [
    "import pandas as pd\n",
    "import os\n",
    "os.getcwd()\n"
   ]
  },
  {
   "cell_type": "code",
   "execution_count": 5,
   "metadata": {},
   "outputs": [
    {
     "data": {
      "text/html": [
       "<div>\n",
       "<style scoped>\n",
       "    .dataframe tbody tr th:only-of-type {\n",
       "        vertical-align: middle;\n",
       "    }\n",
       "\n",
       "    .dataframe tbody tr th {\n",
       "        vertical-align: top;\n",
       "    }\n",
       "\n",
       "    .dataframe thead th {\n",
       "        text-align: right;\n",
       "    }\n",
       "</style>\n",
       "<table border=\"1\" class=\"dataframe\">\n",
       "  <thead>\n",
       "    <tr style=\"text-align: right;\">\n",
       "      <th></th>\n",
       "      <th>Consommable</th>\n",
       "      <th>Référence</th>\n",
       "      <th>Code NACRES</th>\n",
       "      <th>Masse unitaire (g)</th>\n",
       "      <th>Matériau</th>\n",
       "      <th>Source/Signature</th>\n",
       "    </tr>\n",
       "  </thead>\n",
       "  <tbody>\n",
       "    <tr>\n",
       "      <th>0</th>\n",
       "      <td>Tube Falcon 15ml</td>\n",
       "      <td>N/A</td>\n",
       "      <td>NB13</td>\n",
       "      <td>6.7</td>\n",
       "      <td>Polypropylène (PP)</td>\n",
       "      <td>Alexandre Souchaud</td>\n",
       "    </tr>\n",
       "    <tr>\n",
       "      <th>2</th>\n",
       "      <td>Tube Falcon 50ml</td>\n",
       "      <td>10-9502</td>\n",
       "      <td>NB13</td>\n",
       "      <td>14.3</td>\n",
       "      <td>Polypropylène (PP)</td>\n",
       "      <td>Souchaud</td>\n",
       "    </tr>\n",
       "  </tbody>\n",
       "</table>\n",
       "</div>"
      ],
      "text/plain": [
       "        Consommable Référence Code NACRES  Masse unitaire (g)  \\\n",
       "0  Tube Falcon 15ml       N/A        NB13                 6.7   \n",
       "2  Tube Falcon 50ml   10-9502        NB13                14.3   \n",
       "\n",
       "             Matériau    Source/Signature  \n",
       "0  Polypropylène (PP)  Alexandre Souchaud  \n",
       "2  Polypropylène (PP)            Souchaud  "
      ]
     },
     "execution_count": 5,
     "metadata": {},
     "output_type": "execute_result"
    }
   ],
   "source": [
    "tableau = pd.read_hdf('./data_eCO2_masse_consommable.hdf5')\n",
    "tableau"
   ]
  },
  {
   "cell_type": "code",
   "execution_count": 12,
   "metadata": {},
   "outputs": [
    {
     "data": {
      "text/html": [
       "<div>\n",
       "<style scoped>\n",
       "    .dataframe tbody tr th:only-of-type {\n",
       "        vertical-align: middle;\n",
       "    }\n",
       "\n",
       "    .dataframe tbody tr th {\n",
       "        vertical-align: top;\n",
       "    }\n",
       "\n",
       "    .dataframe thead th {\n",
       "        text-align: right;\n",
       "    }\n",
       "</style>\n",
       "<table border=\"1\" class=\"dataframe\">\n",
       "  <thead>\n",
       "    <tr style=\"text-align: right;\">\n",
       "      <th></th>\n",
       "      <th>Consommable</th>\n",
       "      <th>Référence</th>\n",
       "      <th>Code NACRES</th>\n",
       "      <th>Masse unitaire (g)</th>\n",
       "      <th>Matériau</th>\n",
       "      <th>Source/Signature</th>\n",
       "    </tr>\n",
       "  </thead>\n",
       "  <tbody>\n",
       "    <tr>\n",
       "      <th>0</th>\n",
       "      <td>Tube Falcon 15ml</td>\n",
       "      <td>N/A</td>\n",
       "      <td>NB13</td>\n",
       "      <td>6.7</td>\n",
       "      <td>Polypropylène (PP)</td>\n",
       "      <td>Alexandre Souchaud</td>\n",
       "    </tr>\n",
       "    <tr>\n",
       "      <th>2</th>\n",
       "      <td>Tube Falcon 50ml</td>\n",
       "      <td>10-9502</td>\n",
       "      <td>NB13</td>\n",
       "      <td>14.3</td>\n",
       "      <td>Polypropylène (PP)</td>\n",
       "      <td>Souchaud</td>\n",
       "    </tr>\n",
       "  </tbody>\n",
       "</table>\n",
       "</div>"
      ],
      "text/plain": [
       "        Consommable Référence Code NACRES  Masse unitaire (g)  \\\n",
       "0  Tube Falcon 15ml       N/A        NB13                 6.7   \n",
       "2  Tube Falcon 50ml   10-9502        NB13                14.3   \n",
       "\n",
       "             Matériau    Source/Signature  \n",
       "0  Polypropylène (PP)  Alexandre Souchaud  \n",
       "2  Polypropylène (PP)            Souchaud  "
      ]
     },
     "execution_count": 12,
     "metadata": {},
     "output_type": "execute_result"
    }
   ],
   "source": [
    "a_supprimer = \"10\"\n",
    "tableau = tableau.drop(tableau[tableau[\"Référence\"] == a_supprimer].index)\n",
    "tableau"
   ]
  },
  {
   "cell_type": "code",
   "execution_count": 6,
   "metadata": {},
   "outputs": [],
   "source": [
    "tableau.to_hdf('./data_eCO2_masse_consommable.hdf5', key='data', mode='w')"
   ]
  },
  {
   "cell_type": "code",
   "execution_count": 15,
   "metadata": {},
   "outputs": [],
   "source": [
    "data_base = pd.read_hdf('./data_base_GES1point5/data_base_GES1point5.hdf5')"
   ]
  },
  {
   "cell_type": "code",
   "execution_count": null,
   "metadata": {},
   "outputs": [],
   "source": [
    "fusion  = data_base[data_base['category'] == 'Achats']['subsubcategory'] + \" \" + data_base[data_base['category'] == 'Achats']['name']"
   ]
  },
  {
   "cell_type": "code",
   "execution_count": 22,
   "metadata": {},
   "outputs": [
    {
     "data": {
      "text/plain": [
       "158       AA01 Pains, patisseries, viennoiseries congeles\n",
       "159                         AA02 Produits carnes congeles\n",
       "160        AA03 Produits de la mer ou deau douce congeles\n",
       "161                       AA04 Fruits et legumes congeles\n",
       "162     AA05 Preparations alimentaires et plats cuisin...\n",
       "                              ...                        \n",
       "1619              XF05 Facturation interne - informatique\n",
       "1620                XF06 Facturation interne - immobilier\n",
       "1621            XF07 Facturation interne - action sociale\n",
       "1622               XF08 Facturation interne - subventions\n",
       "1623                    XF09 Facturation interne - autres\n",
       "Length: 1466, dtype: object"
      ]
     },
     "execution_count": 22,
     "metadata": {},
     "output_type": "execute_result"
    }
   ],
   "source": [
    "fusion"
   ]
  },
  {
   "cell_type": "code",
   "execution_count": 23,
   "metadata": {},
   "outputs": [],
   "source": [
    "fusion.to_csv('./data_base_GES1point5/NACRES_list.csv', index=False)"
   ]
  },
  {
   "cell_type": "code",
   "execution_count": null,
   "metadata": {},
   "outputs": [],
   "source": []
  }
 ],
 "metadata": {
  "kernelspec": {
   "display_name": "LABeCO2_env_test",
   "language": "python",
   "name": "python3"
  },
  "language_info": {
   "codemirror_mode": {
    "name": "ipython",
    "version": 3
   },
   "file_extension": ".py",
   "mimetype": "text/x-python",
   "name": "python",
   "nbconvert_exporter": "python",
   "pygments_lexer": "ipython3",
   "version": "3.11.11"
  }
 },
 "nbformat": 4,
 "nbformat_minor": 2
}
