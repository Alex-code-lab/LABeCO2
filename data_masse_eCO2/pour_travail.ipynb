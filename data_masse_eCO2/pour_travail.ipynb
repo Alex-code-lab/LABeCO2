{
 "cells": [
  {
   "cell_type": "code",
   "execution_count": 1,
   "metadata": {},
   "outputs": [
    {
     "data": {
      "text/plain": [
       "'/Users/souchaud/Documents/Travail/Transition_ecologique/LABeCO2/data_masse_eCO2'"
      ]
     },
     "execution_count": 1,
     "metadata": {},
     "output_type": "execute_result"
    }
   ],
   "source": [
    "import pandas as pd\n",
    "import os\n",
    "os.getcwd()\n"
   ]
  },
  {
   "cell_type": "code",
   "execution_count": 6,
   "metadata": {},
   "outputs": [
    {
     "data": {
      "text/html": [
       "<div>\n",
       "<style scoped>\n",
       "    .dataframe tbody tr th:only-of-type {\n",
       "        vertical-align: middle;\n",
       "    }\n",
       "\n",
       "    .dataframe tbody tr th {\n",
       "        vertical-align: top;\n",
       "    }\n",
       "\n",
       "    .dataframe thead th {\n",
       "        text-align: right;\n",
       "    }\n",
       "</style>\n",
       "<table border=\"1\" class=\"dataframe\">\n",
       "  <thead>\n",
       "    <tr style=\"text-align: right;\">\n",
       "      <th></th>\n",
       "      <th>Consommable</th>\n",
       "      <th>Marque</th>\n",
       "      <th>Référence</th>\n",
       "      <th>Code NACRES</th>\n",
       "      <th>Masse unitaire (g)</th>\n",
       "      <th>Matériau</th>\n",
       "      <th>Source/Signature</th>\n",
       "    </tr>\n",
       "  </thead>\n",
       "  <tbody>\n",
       "    <tr>\n",
       "      <th>0</th>\n",
       "      <td>Tube centrifugeuse 15 mL</td>\n",
       "      <td>Falcon</td>\n",
       "      <td>352096</td>\n",
       "      <td>NB13</td>\n",
       "      <td>6.70</td>\n",
       "      <td>Polypropylène (PP)</td>\n",
       "      <td>Alexandre Souchaud</td>\n",
       "    </tr>\n",
       "    <tr>\n",
       "      <th>1</th>\n",
       "      <td>Tube centrifugeuse 50 mL</td>\n",
       "      <td>BIOLOGIX</td>\n",
       "      <td>10-9502</td>\n",
       "      <td>NB13</td>\n",
       "      <td>14.35</td>\n",
       "      <td>Polypropylène (PP)</td>\n",
       "      <td>Alexandre Souchaud</td>\n",
       "    </tr>\n",
       "    <tr>\n",
       "      <th>2</th>\n",
       "      <td>Seringue 5 mL</td>\n",
       "      <td>Terumo</td>\n",
       "      <td>1SS05LE1</td>\n",
       "      <td>NB13</td>\n",
       "      <td>4.90</td>\n",
       "      <td>Polypropylène (PP)</td>\n",
       "      <td>Alexandre Souchaud</td>\n",
       "    </tr>\n",
       "    <tr>\n",
       "      <th>3</th>\n",
       "      <td>Boite de Pétri 35 x 10 mm</td>\n",
       "      <td>Falcon</td>\n",
       "      <td>351008</td>\n",
       "      <td>NB13</td>\n",
       "      <td>4.60</td>\n",
       "      <td>Polypropylène (PP)</td>\n",
       "      <td>Alexandre Souchaud</td>\n",
       "    </tr>\n",
       "    <tr>\n",
       "      <th>4</th>\n",
       "      <td>Serological pipette 5 mL individually wrapped</td>\n",
       "      <td>Starlab</td>\n",
       "      <td>E4860-0005</td>\n",
       "      <td>NB13</td>\n",
       "      <td>7.90</td>\n",
       "      <td>Verre</td>\n",
       "      <td>Alexandre Souchaud</td>\n",
       "    </tr>\n",
       "    <tr>\n",
       "      <th>5</th>\n",
       "      <td>T-25 Tissue Culture Flask, green plug seal cap</td>\n",
       "      <td>CytoOne</td>\n",
       "      <td>CC7682-4825</td>\n",
       "      <td>NB13</td>\n",
       "      <td>20.90</td>\n",
       "      <td>Polystyrène (PS)</td>\n",
       "      <td>Alexandre Souchaud</td>\n",
       "    </tr>\n",
       "  </tbody>\n",
       "</table>\n",
       "</div>"
      ],
      "text/plain": [
       "                                      Consommable    Marque    Référence  \\\n",
       "0                        Tube centrifugeuse 15 mL    Falcon       352096   \n",
       "1                        Tube centrifugeuse 50 mL  BIOLOGIX      10-9502   \n",
       "2                                   Seringue 5 mL    Terumo     1SS05LE1   \n",
       "3                       Boite de Pétri 35 x 10 mm    Falcon       351008   \n",
       "4   Serological pipette 5 mL individually wrapped   Starlab   E4860-0005   \n",
       "5  T-25 Tissue Culture Flask, green plug seal cap   CytoOne  CC7682-4825   \n",
       "\n",
       "  Code NACRES  Masse unitaire (g)            Matériau    Source/Signature  \n",
       "0        NB13                6.70  Polypropylène (PP)  Alexandre Souchaud  \n",
       "1        NB13               14.35  Polypropylène (PP)  Alexandre Souchaud  \n",
       "2        NB13                4.90  Polypropylène (PP)  Alexandre Souchaud  \n",
       "3        NB13                4.60  Polypropylène (PP)  Alexandre Souchaud  \n",
       "4        NB13                7.90               Verre  Alexandre Souchaud  \n",
       "5        NB13               20.90    Polystyrène (PS)  Alexandre Souchaud  "
      ]
     },
     "execution_count": 6,
     "metadata": {},
     "output_type": "execute_result"
    }
   ],
   "source": [
    "tableau = pd.read_hdf('./data_eCO2_masse_consommable.hdf5')\n",
    "tableau"
   ]
  },
  {
   "cell_type": "code",
   "execution_count": 3,
   "metadata": {},
   "outputs": [
    {
     "data": {
      "text/html": [
       "<div>\n",
       "<style scoped>\n",
       "    .dataframe tbody tr th:only-of-type {\n",
       "        vertical-align: middle;\n",
       "    }\n",
       "\n",
       "    .dataframe tbody tr th {\n",
       "        vertical-align: top;\n",
       "    }\n",
       "\n",
       "    .dataframe thead th {\n",
       "        text-align: right;\n",
       "    }\n",
       "</style>\n",
       "<table border=\"1\" class=\"dataframe\">\n",
       "  <thead>\n",
       "    <tr style=\"text-align: right;\">\n",
       "      <th></th>\n",
       "      <th>Consommable</th>\n",
       "      <th>Marque</th>\n",
       "      <th>Référence</th>\n",
       "      <th>Code NACRES</th>\n",
       "      <th>Masse unitaire (g)</th>\n",
       "      <th>Matériau</th>\n",
       "      <th>Source/Signature</th>\n",
       "    </tr>\n",
       "  </thead>\n",
       "  <tbody>\n",
       "    <tr>\n",
       "      <th>0</th>\n",
       "      <td>Tube centrifugeuse 15 mL</td>\n",
       "      <td>Falcon</td>\n",
       "      <td>352096</td>\n",
       "      <td>NB13</td>\n",
       "      <td>6.70</td>\n",
       "      <td>Polypropylène (PP)</td>\n",
       "      <td>Alexandre Souchaud</td>\n",
       "    </tr>\n",
       "    <tr>\n",
       "      <th>1</th>\n",
       "      <td>Tube centrifugeuse 50 mL</td>\n",
       "      <td>BIOLOGIX</td>\n",
       "      <td>10-9502</td>\n",
       "      <td>NB13</td>\n",
       "      <td>14.35</td>\n",
       "      <td>Polypropylène (PP)</td>\n",
       "      <td>Alexandre Souchaud</td>\n",
       "    </tr>\n",
       "    <tr>\n",
       "      <th>2</th>\n",
       "      <td>Seringue 5 mL</td>\n",
       "      <td>Terumo</td>\n",
       "      <td>1SS05LE1</td>\n",
       "      <td>NB13</td>\n",
       "      <td>4.90</td>\n",
       "      <td>Polypropylène (PP)</td>\n",
       "      <td>Alexandre Souchaud</td>\n",
       "    </tr>\n",
       "  </tbody>\n",
       "</table>\n",
       "</div>"
      ],
      "text/plain": [
       "                Consommable    Marque Référence Code NACRES  \\\n",
       "0  Tube centrifugeuse 15 mL    Falcon    352096        NB13   \n",
       "1  Tube centrifugeuse 50 mL  BIOLOGIX   10-9502        NB13   \n",
       "2             Seringue 5 mL    Terumo  1SS05LE1        NB13   \n",
       "\n",
       "   Masse unitaire (g)            Matériau    Source/Signature  \n",
       "0                6.70  Polypropylène (PP)  Alexandre Souchaud  \n",
       "1               14.35  Polypropylène (PP)  Alexandre Souchaud  \n",
       "2                4.90  Polypropylène (PP)  Alexandre Souchaud  "
      ]
     },
     "execution_count": 3,
     "metadata": {},
     "output_type": "execute_result"
    }
   ],
   "source": [
    "a_supprimer = \"Boite de Pétri 35 x 10 mm\"\n",
    "tableau = tableau.drop(tableau[tableau[\"Consommable\"] == a_supprimer].index)\n",
    "tableau"
   ]
  },
  {
   "cell_type": "code",
   "execution_count": 4,
   "metadata": {},
   "outputs": [],
   "source": [
    "# col = tableau.pop('Marque')\n",
    "# tableau.insert(1, col.name, col)"
   ]
  },
  {
   "cell_type": "code",
   "execution_count": 5,
   "metadata": {},
   "outputs": [],
   "source": [
    "tableau.to_hdf('./data_eCO2_masse_consommable.hdf5', key='data', mode='w')"
   ]
  },
  {
   "cell_type": "code",
   "execution_count": 16,
   "metadata": {},
   "outputs": [
    {
     "ename": "FileNotFoundError",
     "evalue": "File ./data_base_GES1point5/data_base_GES1point5.hdf5 does not exist",
     "output_type": "error",
     "traceback": [
      "\u001b[0;31m---------------------------------------------------------------------------\u001b[0m",
      "\u001b[0;31mFileNotFoundError\u001b[0m                         Traceback (most recent call last)",
      "Cell \u001b[0;32mIn[16], line 1\u001b[0m\n\u001b[0;32m----> 1\u001b[0m data_base \u001b[38;5;241m=\u001b[39m \u001b[43mpd\u001b[49m\u001b[38;5;241;43m.\u001b[39;49m\u001b[43mread_hdf\u001b[49m\u001b[43m(\u001b[49m\u001b[38;5;124;43m'\u001b[39;49m\u001b[38;5;124;43m./data_base_GES1point5/data_base_GES1point5.hdf5\u001b[39;49m\u001b[38;5;124;43m'\u001b[39;49m\u001b[43m)\u001b[49m\n",
      "File \u001b[0;32m~/Documents/Travail/Transition_ecologique/LABeCO2/LABeCO2_env_test/lib/python3.11/site-packages/pandas/io/pytables.py:424\u001b[0m, in \u001b[0;36mread_hdf\u001b[0;34m(path_or_buf, key, mode, errors, where, start, stop, columns, iterator, chunksize, **kwargs)\u001b[0m\n\u001b[1;32m    421\u001b[0m     exists \u001b[38;5;241m=\u001b[39m \u001b[38;5;28;01mFalse\u001b[39;00m\n\u001b[1;32m    423\u001b[0m \u001b[38;5;28;01mif\u001b[39;00m \u001b[38;5;129;01mnot\u001b[39;00m exists:\n\u001b[0;32m--> 424\u001b[0m     \u001b[38;5;28;01mraise\u001b[39;00m \u001b[38;5;167;01mFileNotFoundError\u001b[39;00m(\u001b[38;5;124mf\u001b[39m\u001b[38;5;124m\"\u001b[39m\u001b[38;5;124mFile \u001b[39m\u001b[38;5;132;01m{\u001b[39;00mpath_or_buf\u001b[38;5;132;01m}\u001b[39;00m\u001b[38;5;124m does not exist\u001b[39m\u001b[38;5;124m\"\u001b[39m)\n\u001b[1;32m    426\u001b[0m store \u001b[38;5;241m=\u001b[39m HDFStore(path_or_buf, mode\u001b[38;5;241m=\u001b[39mmode, errors\u001b[38;5;241m=\u001b[39merrors, \u001b[38;5;241m*\u001b[39m\u001b[38;5;241m*\u001b[39mkwargs)\n\u001b[1;32m    427\u001b[0m \u001b[38;5;66;03m# can't auto open/close if we are using an iterator\u001b[39;00m\n\u001b[1;32m    428\u001b[0m \u001b[38;5;66;03m# so delegate to the iterator\u001b[39;00m\n",
      "\u001b[0;31mFileNotFoundError\u001b[0m: File ./data_base_GES1point5/data_base_GES1point5.hdf5 does not exist"
     ]
    }
   ],
   "source": [
    "data_base = pd.read_hdf('./data_base_GES1point5/data_base_GES1point5.hdf5')"
   ]
  },
  {
   "cell_type": "code",
   "execution_count": null,
   "metadata": {},
   "outputs": [],
   "source": [
    "fusion  = data_base[data_base['category'] == 'Achats']['subsubcategory'] + \" \" + data_base[data_base['category'] == 'Achats']['name']"
   ]
  },
  {
   "cell_type": "code",
   "execution_count": 22,
   "metadata": {},
   "outputs": [
    {
     "data": {
      "text/plain": [
       "158       AA01 Pains, patisseries, viennoiseries congeles\n",
       "159                         AA02 Produits carnes congeles\n",
       "160        AA03 Produits de la mer ou deau douce congeles\n",
       "161                       AA04 Fruits et legumes congeles\n",
       "162     AA05 Preparations alimentaires et plats cuisin...\n",
       "                              ...                        \n",
       "1619              XF05 Facturation interne - informatique\n",
       "1620                XF06 Facturation interne - immobilier\n",
       "1621            XF07 Facturation interne - action sociale\n",
       "1622               XF08 Facturation interne - subventions\n",
       "1623                    XF09 Facturation interne - autres\n",
       "Length: 1466, dtype: object"
      ]
     },
     "execution_count": 22,
     "metadata": {},
     "output_type": "execute_result"
    }
   ],
   "source": [
    "fusion"
   ]
  },
  {
   "cell_type": "code",
   "execution_count": 23,
   "metadata": {},
   "outputs": [],
   "source": [
    "fusion.to_csv('./data_base_GES1point5/NACRES_list.csv', index=False)"
   ]
  },
  {
   "cell_type": "code",
   "execution_count": 31,
   "metadata": {},
   "outputs": [
    {
     "name": "stderr",
     "output_type": "stream",
     "text": [
      "2025-01-13 11:38:49.488 Python[13822:1522211] +[IMKClient subclass]: chose IMKClient_Modern\n",
      "2025-01-13 11:38:49.488 Python[13822:1522211] +[IMKInputSession subclass]: chose IMKInputSession_Modern\n"
     ]
    },
    {
     "ename": "SystemExit",
     "evalue": "0",
     "output_type": "error",
     "traceback": [
      "An exception has occurred, use %tb to see the full traceback.\n",
      "\u001b[0;31mSystemExit\u001b[0m\u001b[0;31m:\u001b[0m 0\n"
     ]
    },
    {
     "name": "stderr",
     "output_type": "stream",
     "text": [
      "/Users/souchaud/Documents/Travail/Transition_ecologique/LABeCO2/LABeCO2_env_test/lib/python3.11/site-packages/IPython/core/interactiveshell.py:3585: UserWarning: To exit: use 'exit', 'quit', or Ctrl-D.\n",
      "  warn(\"To exit: use 'exit', 'quit', or Ctrl-D.\", stacklevel=1)\n"
     ]
    },
    {
     "ename": "",
     "evalue": "",
     "output_type": "error",
     "traceback": [
      "\u001b[1;31mThe Kernel crashed while executing code in the current cell or a previous cell. \n",
      "\u001b[1;31mPlease review the code in the cell(s) to identify a possible cause of the failure. \n",
      "\u001b[1;31mClick <a href='https://aka.ms/vscodeJupyterKernelCrash'>here</a> for more info. \n",
      "\u001b[1;31mView Jupyter <a href='command:jupyter.viewOutput'>log</a> for further details."
     ]
    }
   ],
   "source": [
    "import sys\n",
    "import pandas as pd\n",
    "from PySide6.QtWidgets import QApplication, QMainWindow, QTableWidget, QTableWidgetItem, QVBoxLayout, QWidget\n",
    "\n",
    "class MainWindow(QMainWindow):\n",
    "    def __init__(self):\n",
    "        super().__init__()\n",
    "        self.setWindowTitle(\"Affichage du DataFrame\")\n",
    "        self.resize(800, 600)\n",
    "\n",
    "        # Création d'un QTableWidget\n",
    "        self.table = QTableWidget()\n",
    "        \n",
    "        # Disposition\n",
    "        layout = QVBoxLayout()\n",
    "        layout.addWidget(self.table)\n",
    "        container = QWidget()\n",
    "        container.setLayout(layout)\n",
    "        self.setCentralWidget(container)\n",
    "\n",
    "        # Charger et afficher les données\n",
    "        self.afficher_donnees()\n",
    "\n",
    "    def afficher_donnees(self):\n",
    "        # Lecture du DataFrame depuis le fichier HDF5\n",
    "        tableau = pd.read_hdf('./data_eCO2_masse_consommable.hdf5')\n",
    "        \n",
    "        # Configurer le QTableWidget en fonction du DataFrame\n",
    "        self.table.setRowCount(len(tableau))\n",
    "        self.table.setColumnCount(len(tableau.columns))\n",
    "        self.table.setHorizontalHeaderLabels(tableau.columns.tolist())\n",
    "\n",
    "        for row_idx, (_, row_data) in enumerate(tableau.iterrows()):\n",
    "            for col_idx, value in enumerate(row_data):\n",
    "                item = QTableWidgetItem(str(value))\n",
    "                self.table.setItem(row_idx, col_idx, item)\n",
    "\n",
    "if __name__ == \"__main__\":\n",
    "    app = QApplication(sys.argv)\n",
    "    window = MainWindow()\n",
    "    window.show()\n",
    "    sys.exit(app.exec())"
   ]
  },
  {
   "cell_type": "code",
   "execution_count": null,
   "metadata": {},
   "outputs": [],
   "source": []
  }
 ],
 "metadata": {
  "kernelspec": {
   "display_name": "LABeCO2_env_test",
   "language": "python",
   "name": "python3"
  },
  "language_info": {
   "codemirror_mode": {
    "name": "ipython",
    "version": 3
   },
   "file_extension": ".py",
   "mimetype": "text/x-python",
   "name": "python",
   "nbconvert_exporter": "python",
   "pygments_lexer": "ipython3",
   "version": "3.11.11"
  }
 },
 "nbformat": 4,
 "nbformat_minor": 2
}
