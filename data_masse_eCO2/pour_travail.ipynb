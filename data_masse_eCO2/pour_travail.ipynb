{
 "cells": [
  {
   "cell_type": "code",
   "execution_count": 1,
   "metadata": {},
   "outputs": [
    {
     "data": {
      "text/plain": [
       "'/Users/souchaud/Documents/Travail/Transition_ecologique/LABeCO2/data_masse_eCO2'"
      ]
     },
     "execution_count": 1,
     "metadata": {},
     "output_type": "execute_result"
    }
   ],
   "source": [
    "import pandas as pd\n",
    "import os\n",
    "os.getcwd()\n"
   ]
  },
  {
   "cell_type": "code",
   "execution_count": 8,
   "metadata": {},
   "outputs": [
    {
     "data": {
      "text/html": [
       "<div>\n",
       "<style scoped>\n",
       "    .dataframe tbody tr th:only-of-type {\n",
       "        vertical-align: middle;\n",
       "    }\n",
       "\n",
       "    .dataframe tbody tr th {\n",
       "        vertical-align: top;\n",
       "    }\n",
       "\n",
       "    .dataframe thead th {\n",
       "        text-align: right;\n",
       "    }\n",
       "</style>\n",
       "<table border=\"1\" class=\"dataframe\">\n",
       "  <thead>\n",
       "    <tr style=\"text-align: right;\">\n",
       "      <th></th>\n",
       "      <th>Consommable</th>\n",
       "      <th>Marque</th>\n",
       "      <th>Référence</th>\n",
       "      <th>Code NACRES</th>\n",
       "      <th>Masse unitaire (g)</th>\n",
       "      <th>Matériau</th>\n",
       "      <th>Source/Signature</th>\n",
       "    </tr>\n",
       "  </thead>\n",
       "  <tbody>\n",
       "    <tr>\n",
       "      <th>0</th>\n",
       "      <td>Tube centrifugeuse 15 mL</td>\n",
       "      <td>Falcon</td>\n",
       "      <td>352096</td>\n",
       "      <td>NB13</td>\n",
       "      <td>6.70</td>\n",
       "      <td>Polypropylène (PP)</td>\n",
       "      <td>Alexandre Souchaud</td>\n",
       "    </tr>\n",
       "    <tr>\n",
       "      <th>1</th>\n",
       "      <td>Tube centrifugeuse 50 mL</td>\n",
       "      <td>BIOLOGIX</td>\n",
       "      <td>10-9502</td>\n",
       "      <td>NB13</td>\n",
       "      <td>14.35</td>\n",
       "      <td>Polypropylène (PP)</td>\n",
       "      <td>Alexandre Souchaud</td>\n",
       "    </tr>\n",
       "    <tr>\n",
       "      <th>2</th>\n",
       "      <td>Seringue 5 mL</td>\n",
       "      <td>Terumo</td>\n",
       "      <td>1SS05LE1</td>\n",
       "      <td>NB13</td>\n",
       "      <td>4.90</td>\n",
       "      <td>Polypropylène (PP)</td>\n",
       "      <td>Alexandre Souchaud</td>\n",
       "    </tr>\n",
       "    <tr>\n",
       "      <th>3</th>\n",
       "      <td>Boite de Pétri 35 x 10 mm</td>\n",
       "      <td>Falcon</td>\n",
       "      <td>351008</td>\n",
       "      <td>NB13</td>\n",
       "      <td>4.60</td>\n",
       "      <td>Polypropylène (PP)</td>\n",
       "      <td>Alexandre Souchaud</td>\n",
       "    </tr>\n",
       "    <tr>\n",
       "      <th>4</th>\n",
       "      <td>Serological pipette 5 mL individually wrapped</td>\n",
       "      <td>Starlab</td>\n",
       "      <td>E4860-0005</td>\n",
       "      <td>NB13</td>\n",
       "      <td>7.90</td>\n",
       "      <td>Verre</td>\n",
       "      <td>Alexandre Souchaud</td>\n",
       "    </tr>\n",
       "    <tr>\n",
       "      <th>5</th>\n",
       "      <td>T-25 Tissue Culture Flask, green plug seal cap</td>\n",
       "      <td>CytoOne</td>\n",
       "      <td>CC7682-4825</td>\n",
       "      <td>NB13</td>\n",
       "      <td>20.90</td>\n",
       "      <td>Polystyrène (PS)</td>\n",
       "      <td>Alexandre Souchaud</td>\n",
       "    </tr>\n",
       "    <tr>\n",
       "      <th>6</th>\n",
       "      <td>T-75 Tissue Culture Flask, green plug seal cap</td>\n",
       "      <td>CytoOne</td>\n",
       "      <td>CC7682-4175</td>\n",
       "      <td>NB13</td>\n",
       "      <td>60.62</td>\n",
       "      <td>Polystyrène (PS)</td>\n",
       "      <td>Alexandre Souchaud</td>\n",
       "    </tr>\n",
       "  </tbody>\n",
       "</table>\n",
       "</div>"
      ],
      "text/plain": [
       "                                      Consommable    Marque    Référence  \\\n",
       "0                        Tube centrifugeuse 15 mL    Falcon       352096   \n",
       "1                        Tube centrifugeuse 50 mL  BIOLOGIX      10-9502   \n",
       "2                                   Seringue 5 mL    Terumo     1SS05LE1   \n",
       "3                       Boite de Pétri 35 x 10 mm    Falcon       351008   \n",
       "4   Serological pipette 5 mL individually wrapped   Starlab   E4860-0005   \n",
       "5  T-25 Tissue Culture Flask, green plug seal cap   CytoOne  CC7682-4825   \n",
       "6  T-75 Tissue Culture Flask, green plug seal cap   CytoOne  CC7682-4175   \n",
       "\n",
       "  Code NACRES  Masse unitaire (g)            Matériau    Source/Signature  \n",
       "0        NB13                6.70  Polypropylène (PP)  Alexandre Souchaud  \n",
       "1        NB13               14.35  Polypropylène (PP)  Alexandre Souchaud  \n",
       "2        NB13                4.90  Polypropylène (PP)  Alexandre Souchaud  \n",
       "3        NB13                4.60  Polypropylène (PP)  Alexandre Souchaud  \n",
       "4        NB13                7.90               Verre  Alexandre Souchaud  \n",
       "5        NB13               20.90    Polystyrène (PS)  Alexandre Souchaud  \n",
       "6        NB13               60.62    Polystyrène (PS)  Alexandre Souchaud  "
      ]
     },
     "execution_count": 8,
     "metadata": {},
     "output_type": "execute_result"
    }
   ],
   "source": [
    "tableau = pd.read_hdf('./data_eCO2_masse_consommable.hdf5')\n",
    "tableau"
   ]
  },
  {
   "cell_type": "code",
   "execution_count": 3,
   "metadata": {},
   "outputs": [
    {
     "data": {
      "text/html": [
       "<div>\n",
       "<style scoped>\n",
       "    .dataframe tbody tr th:only-of-type {\n",
       "        vertical-align: middle;\n",
       "    }\n",
       "\n",
       "    .dataframe tbody tr th {\n",
       "        vertical-align: top;\n",
       "    }\n",
       "\n",
       "    .dataframe thead th {\n",
       "        text-align: right;\n",
       "    }\n",
       "</style>\n",
       "<table border=\"1\" class=\"dataframe\">\n",
       "  <thead>\n",
       "    <tr style=\"text-align: right;\">\n",
       "      <th></th>\n",
       "      <th>Consommable</th>\n",
       "      <th>Marque</th>\n",
       "      <th>Référence</th>\n",
       "      <th>Code NACRES</th>\n",
       "      <th>Masse unitaire (g)</th>\n",
       "      <th>Matériau</th>\n",
       "      <th>Source/Signature</th>\n",
       "    </tr>\n",
       "  </thead>\n",
       "  <tbody>\n",
       "    <tr>\n",
       "      <th>0</th>\n",
       "      <td>Tube centrifugeuse 15 mL</td>\n",
       "      <td>Falcon</td>\n",
       "      <td>352096</td>\n",
       "      <td>NB13</td>\n",
       "      <td>6.70</td>\n",
       "      <td>Polypropylène (PP)</td>\n",
       "      <td>Alexandre Souchaud</td>\n",
       "    </tr>\n",
       "    <tr>\n",
       "      <th>1</th>\n",
       "      <td>Tube centrifugeuse 50 mL</td>\n",
       "      <td>BIOLOGIX</td>\n",
       "      <td>10-9502</td>\n",
       "      <td>NB13</td>\n",
       "      <td>14.35</td>\n",
       "      <td>Polypropylène (PP)</td>\n",
       "      <td>Alexandre Souchaud</td>\n",
       "    </tr>\n",
       "    <tr>\n",
       "      <th>2</th>\n",
       "      <td>Seringue 5 mL</td>\n",
       "      <td>Terumo</td>\n",
       "      <td>1SS05LE1</td>\n",
       "      <td>NB13</td>\n",
       "      <td>4.90</td>\n",
       "      <td>Polypropylène (PP)</td>\n",
       "      <td>Alexandre Souchaud</td>\n",
       "    </tr>\n",
       "  </tbody>\n",
       "</table>\n",
       "</div>"
      ],
      "text/plain": [
       "                Consommable    Marque Référence Code NACRES  \\\n",
       "0  Tube centrifugeuse 15 mL    Falcon    352096        NB13   \n",
       "1  Tube centrifugeuse 50 mL  BIOLOGIX   10-9502        NB13   \n",
       "2             Seringue 5 mL    Terumo  1SS05LE1        NB13   \n",
       "\n",
       "   Masse unitaire (g)            Matériau    Source/Signature  \n",
       "0                6.70  Polypropylène (PP)  Alexandre Souchaud  \n",
       "1               14.35  Polypropylène (PP)  Alexandre Souchaud  \n",
       "2                4.90  Polypropylène (PP)  Alexandre Souchaud  "
      ]
     },
     "execution_count": 3,
     "metadata": {},
     "output_type": "execute_result"
    }
   ],
   "source": [
    "a_supprimer = \"Boite de Pétri 35 x 10 mm\"\n",
    "tableau = tableau.drop(tableau[tableau[\"Consommable\"] == a_supprimer].index)\n",
    "tableau"
   ]
  },
  {
   "cell_type": "code",
   "execution_count": 4,
   "metadata": {},
   "outputs": [],
   "source": [
    "# col = tableau.pop('Marque')\n",
    "# tableau.insert(1, col.name, col)"
   ]
  },
  {
   "cell_type": "code",
   "execution_count": 5,
   "metadata": {},
   "outputs": [],
   "source": [
    "tableau.to_hdf('./data_eCO2_masse_consommable.hdf5', key='data', mode='w')"
   ]
  },
  {
   "cell_type": "code",
   "execution_count": 16,
   "metadata": {},
   "outputs": [
    {
     "ename": "FileNotFoundError",
     "evalue": "File ./data_base_GES1point5/data_base_GES1point5.hdf5 does not exist",
     "output_type": "error",
     "traceback": [
      "\u001b[0;31m---------------------------------------------------------------------------\u001b[0m",
      "\u001b[0;31mFileNotFoundError\u001b[0m                         Traceback (most recent call last)",
      "Cell \u001b[0;32mIn[16], line 1\u001b[0m\n\u001b[0;32m----> 1\u001b[0m data_base \u001b[38;5;241m=\u001b[39m \u001b[43mpd\u001b[49m\u001b[38;5;241;43m.\u001b[39;49m\u001b[43mread_hdf\u001b[49m\u001b[43m(\u001b[49m\u001b[38;5;124;43m'\u001b[39;49m\u001b[38;5;124;43m./data_base_GES1point5/data_base_GES1point5.hdf5\u001b[39;49m\u001b[38;5;124;43m'\u001b[39;49m\u001b[43m)\u001b[49m\n",
      "File \u001b[0;32m~/Documents/Travail/Transition_ecologique/LABeCO2/LABeCO2_env_test/lib/python3.11/site-packages/pandas/io/pytables.py:424\u001b[0m, in \u001b[0;36mread_hdf\u001b[0;34m(path_or_buf, key, mode, errors, where, start, stop, columns, iterator, chunksize, **kwargs)\u001b[0m\n\u001b[1;32m    421\u001b[0m     exists \u001b[38;5;241m=\u001b[39m \u001b[38;5;28;01mFalse\u001b[39;00m\n\u001b[1;32m    423\u001b[0m \u001b[38;5;28;01mif\u001b[39;00m \u001b[38;5;129;01mnot\u001b[39;00m exists:\n\u001b[0;32m--> 424\u001b[0m     \u001b[38;5;28;01mraise\u001b[39;00m \u001b[38;5;167;01mFileNotFoundError\u001b[39;00m(\u001b[38;5;124mf\u001b[39m\u001b[38;5;124m\"\u001b[39m\u001b[38;5;124mFile \u001b[39m\u001b[38;5;132;01m{\u001b[39;00mpath_or_buf\u001b[38;5;132;01m}\u001b[39;00m\u001b[38;5;124m does not exist\u001b[39m\u001b[38;5;124m\"\u001b[39m)\n\u001b[1;32m    426\u001b[0m store \u001b[38;5;241m=\u001b[39m HDFStore(path_or_buf, mode\u001b[38;5;241m=\u001b[39mmode, errors\u001b[38;5;241m=\u001b[39merrors, \u001b[38;5;241m*\u001b[39m\u001b[38;5;241m*\u001b[39mkwargs)\n\u001b[1;32m    427\u001b[0m \u001b[38;5;66;03m# can't auto open/close if we are using an iterator\u001b[39;00m\n\u001b[1;32m    428\u001b[0m \u001b[38;5;66;03m# so delegate to the iterator\u001b[39;00m\n",
      "\u001b[0;31mFileNotFoundError\u001b[0m: File ./data_base_GES1point5/data_base_GES1point5.hdf5 does not exist"
     ]
    }
   ],
   "source": [
    "data_base = pd.read_hdf('./data_base_GES1point5/data_base_GES1point5.hdf5')"
   ]
  },
  {
   "cell_type": "code",
   "execution_count": null,
   "metadata": {},
   "outputs": [],
   "source": [
    "fusion  = data_base[data_base['category'] == 'Achats']['subsubcategory'] + \" \" + data_base[data_base['category'] == 'Achats']['name']"
   ]
  },
  {
   "cell_type": "code",
   "execution_count": 22,
   "metadata": {},
   "outputs": [
    {
     "data": {
      "text/plain": [
       "158       AA01 Pains, patisseries, viennoiseries congeles\n",
       "159                         AA02 Produits carnes congeles\n",
       "160        AA03 Produits de la mer ou deau douce congeles\n",
       "161                       AA04 Fruits et legumes congeles\n",
       "162     AA05 Preparations alimentaires et plats cuisin...\n",
       "                              ...                        \n",
       "1619              XF05 Facturation interne - informatique\n",
       "1620                XF06 Facturation interne - immobilier\n",
       "1621            XF07 Facturation interne - action sociale\n",
       "1622               XF08 Facturation interne - subventions\n",
       "1623                    XF09 Facturation interne - autres\n",
       "Length: 1466, dtype: object"
      ]
     },
     "execution_count": 22,
     "metadata": {},
     "output_type": "execute_result"
    }
   ],
   "source": [
    "fusion"
   ]
  },
  {
   "cell_type": "code",
   "execution_count": 23,
   "metadata": {},
   "outputs": [],
   "source": [
    "fusion.to_csv('./data_base_GES1point5/NACRES_list.csv', index=False)"
   ]
  },
  {
   "cell_type": "code",
   "execution_count": null,
   "metadata": {},
   "outputs": [
    {
     "name": "stderr",
     "output_type": "stream",
     "text": [
      "/Users/souchaud/Documents/Travail/Transition_ecologique/LABeCO2/LABeCO2_env_test/lib/python3.11/site-packages/openpyxl/worksheet/_reader.py:329: UserWarning: Data Validation extension is not supported and will be removed\n",
      "  warn(msg)\n"
     ]
    },
    {
     "ename": "KeyError",
     "evalue": "'category'",
     "output_type": "error",
     "traceback": [
      "\u001b[0;31m---------------------------------------------------------------------------\u001b[0m",
      "\u001b[0;31mKeyError\u001b[0m                                  Traceback (most recent call last)",
      "File \u001b[0;32m~/Documents/Travail/Transition_ecologique/LABeCO2/LABeCO2_env_test/lib/python3.11/site-packages/pandas/core/indexes/base.py:3805\u001b[0m, in \u001b[0;36mIndex.get_loc\u001b[0;34m(self, key)\u001b[0m\n\u001b[1;32m   3804\u001b[0m \u001b[38;5;28;01mtry\u001b[39;00m:\n\u001b[0;32m-> 3805\u001b[0m     \u001b[38;5;28;01mreturn\u001b[39;00m \u001b[38;5;28;43mself\u001b[39;49m\u001b[38;5;241;43m.\u001b[39;49m\u001b[43m_engine\u001b[49m\u001b[38;5;241;43m.\u001b[39;49m\u001b[43mget_loc\u001b[49m\u001b[43m(\u001b[49m\u001b[43mcasted_key\u001b[49m\u001b[43m)\u001b[49m\n\u001b[1;32m   3806\u001b[0m \u001b[38;5;28;01mexcept\u001b[39;00m \u001b[38;5;167;01mKeyError\u001b[39;00m \u001b[38;5;28;01mas\u001b[39;00m err:\n",
      "File \u001b[0;32mindex.pyx:167\u001b[0m, in \u001b[0;36mpandas._libs.index.IndexEngine.get_loc\u001b[0;34m()\u001b[0m\n",
      "File \u001b[0;32mindex.pyx:196\u001b[0m, in \u001b[0;36mpandas._libs.index.IndexEngine.get_loc\u001b[0;34m()\u001b[0m\n",
      "File \u001b[0;32mpandas/_libs/hashtable_class_helper.pxi:7081\u001b[0m, in \u001b[0;36mpandas._libs.hashtable.PyObjectHashTable.get_item\u001b[0;34m()\u001b[0m\n",
      "File \u001b[0;32mpandas/_libs/hashtable_class_helper.pxi:7089\u001b[0m, in \u001b[0;36mpandas._libs.hashtable.PyObjectHashTable.get_item\u001b[0;34m()\u001b[0m\n",
      "\u001b[0;31mKeyError\u001b[0m: 'category'",
      "\nThe above exception was the direct cause of the following exception:\n",
      "\u001b[0;31mKeyError\u001b[0m                                  Traceback (most recent call last)",
      "Cell \u001b[0;32mIn[6], line 2\u001b[0m\n\u001b[1;32m      1\u001b[0m tableau_dl \u001b[38;5;241m=\u001b[39m pd\u001b[38;5;241m.\u001b[39mread_excel(\u001b[38;5;124m'\u001b[39m\u001b[38;5;124m./masses_consommable.xlsx\u001b[39m\u001b[38;5;124m'\u001b[39m)\n\u001b[0;32m----> 2\u001b[0m tableau_dl \u001b[38;5;241m=\u001b[39m tableau_dl[\u001b[43mtableau_dl\u001b[49m\u001b[43m[\u001b[49m\u001b[38;5;124;43m'\u001b[39;49m\u001b[38;5;124;43mcategory\u001b[39;49m\u001b[38;5;124;43m'\u001b[39;49m\u001b[43m]\u001b[49m \u001b[38;5;241m==\u001b[39m \u001b[38;5;124m'\u001b[39m\u001b[38;5;124mAchats\u001b[39m\u001b[38;5;124m'\u001b[39m]\n",
      "File \u001b[0;32m~/Documents/Travail/Transition_ecologique/LABeCO2/LABeCO2_env_test/lib/python3.11/site-packages/pandas/core/frame.py:4102\u001b[0m, in \u001b[0;36mDataFrame.__getitem__\u001b[0;34m(self, key)\u001b[0m\n\u001b[1;32m   4100\u001b[0m \u001b[38;5;28;01mif\u001b[39;00m \u001b[38;5;28mself\u001b[39m\u001b[38;5;241m.\u001b[39mcolumns\u001b[38;5;241m.\u001b[39mnlevels \u001b[38;5;241m>\u001b[39m \u001b[38;5;241m1\u001b[39m:\n\u001b[1;32m   4101\u001b[0m     \u001b[38;5;28;01mreturn\u001b[39;00m \u001b[38;5;28mself\u001b[39m\u001b[38;5;241m.\u001b[39m_getitem_multilevel(key)\n\u001b[0;32m-> 4102\u001b[0m indexer \u001b[38;5;241m=\u001b[39m \u001b[38;5;28;43mself\u001b[39;49m\u001b[38;5;241;43m.\u001b[39;49m\u001b[43mcolumns\u001b[49m\u001b[38;5;241;43m.\u001b[39;49m\u001b[43mget_loc\u001b[49m\u001b[43m(\u001b[49m\u001b[43mkey\u001b[49m\u001b[43m)\u001b[49m\n\u001b[1;32m   4103\u001b[0m \u001b[38;5;28;01mif\u001b[39;00m is_integer(indexer):\n\u001b[1;32m   4104\u001b[0m     indexer \u001b[38;5;241m=\u001b[39m [indexer]\n",
      "File \u001b[0;32m~/Documents/Travail/Transition_ecologique/LABeCO2/LABeCO2_env_test/lib/python3.11/site-packages/pandas/core/indexes/base.py:3812\u001b[0m, in \u001b[0;36mIndex.get_loc\u001b[0;34m(self, key)\u001b[0m\n\u001b[1;32m   3807\u001b[0m     \u001b[38;5;28;01mif\u001b[39;00m \u001b[38;5;28misinstance\u001b[39m(casted_key, \u001b[38;5;28mslice\u001b[39m) \u001b[38;5;129;01mor\u001b[39;00m (\n\u001b[1;32m   3808\u001b[0m         \u001b[38;5;28misinstance\u001b[39m(casted_key, abc\u001b[38;5;241m.\u001b[39mIterable)\n\u001b[1;32m   3809\u001b[0m         \u001b[38;5;129;01mand\u001b[39;00m \u001b[38;5;28many\u001b[39m(\u001b[38;5;28misinstance\u001b[39m(x, \u001b[38;5;28mslice\u001b[39m) \u001b[38;5;28;01mfor\u001b[39;00m x \u001b[38;5;129;01min\u001b[39;00m casted_key)\n\u001b[1;32m   3810\u001b[0m     ):\n\u001b[1;32m   3811\u001b[0m         \u001b[38;5;28;01mraise\u001b[39;00m InvalidIndexError(key)\n\u001b[0;32m-> 3812\u001b[0m     \u001b[38;5;28;01mraise\u001b[39;00m \u001b[38;5;167;01mKeyError\u001b[39;00m(key) \u001b[38;5;28;01mfrom\u001b[39;00m \u001b[38;5;21;01merr\u001b[39;00m\n\u001b[1;32m   3813\u001b[0m \u001b[38;5;28;01mexcept\u001b[39;00m \u001b[38;5;167;01mTypeError\u001b[39;00m:\n\u001b[1;32m   3814\u001b[0m     \u001b[38;5;66;03m# If we have a listlike key, _check_indexing_error will raise\u001b[39;00m\n\u001b[1;32m   3815\u001b[0m     \u001b[38;5;66;03m#  InvalidIndexError. Otherwise we fall through and re-raise\u001b[39;00m\n\u001b[1;32m   3816\u001b[0m     \u001b[38;5;66;03m#  the TypeError.\u001b[39;00m\n\u001b[1;32m   3817\u001b[0m     \u001b[38;5;28mself\u001b[39m\u001b[38;5;241m.\u001b[39m_check_indexing_error(key)\n",
      "\u001b[0;31mKeyError\u001b[0m: 'category'"
     ]
    }
   ],
   "source": [
    "tableau_dl = pd.read_excel('./masses_consommable.xlsx')\n",
    "tableau_dl"
   ]
  },
  {
   "cell_type": "code",
   "execution_count": 2,
   "metadata": {},
   "outputs": [],
   "source": [
    "tableau_nacres = pd.read_hdf(\"../data_base_GES1point5/data_base_GES1point5.hdf5\")\n",
    "# tableau_nacres = tableau_nacres[tableau_nacres['category'] == 'Achats']"
   ]
  },
  {
   "cell_type": "code",
   "execution_count": 3,
   "metadata": {},
   "outputs": [
    {
     "data": {
      "text/plain": [
       "array(['FR', 'FR.94', 'PM', 'WF', 'TF', 'MF', 'BL', 'RE', 'YT', 'GP',\n",
       "       'NC', 'MQ', 'GF', 'PF', 'PF.01', 'Voiture', 'Moto', 'Vélo',\n",
       "       'Trottinette', 'Aéronef', 'Bateau', 'CERN', 'Calcul GENCI',\n",
       "       'Astronomie', \"Utilisation d'engrais\", 'Cheptel',\n",
       "       'Vie du laboratoire (Alimentation, aménagement, loisirs, bâtiment)',\n",
       "       'Services', 'Transport / Hébergement',\n",
       "       'Consommables (Matières premières, produits chimiques/biologiques et organismes vivants)',\n",
       "       'Matériel et instruments de laboratoire',\n",
       "       'Réparations et maintenance', 'Informatique-audiovisuel',\n",
       "       'consommables', 'avion', 'ferroviaire', 'bus', 'bateau'],\n",
       "      dtype=object)"
      ]
     },
     "execution_count": 3,
     "metadata": {},
     "output_type": "execute_result"
    }
   ],
   "source": [
    "tableau_nacres['subcategory'].unique()"
   ]
  },
  {
   "cell_type": "code",
   "execution_count": 4,
   "metadata": {},
   "outputs": [],
   "source": [
    "tableau_nacres['subcategory'] = tableau_nacres['subcategory'].replace(\n",
    "    'consommables',\n",
    "    'Consommables (Matières premières, produits chimiques/biologiques et organismes vivants)'\n",
    ")"
   ]
  },
  {
   "cell_type": "code",
   "execution_count": 5,
   "metadata": {},
   "outputs": [
    {
     "data": {
      "text/plain": [
       "array(['FR', 'FR.94', 'PM', 'WF', 'TF', 'MF', 'BL', 'RE', 'YT', 'GP',\n",
       "       'NC', 'MQ', 'GF', 'PF', 'PF.01', 'Voiture', 'Moto', 'Vélo',\n",
       "       'Trottinette', 'Aéronef', 'Bateau', 'CERN', 'Calcul GENCI',\n",
       "       'Astronomie', \"Utilisation d'engrais\", 'Cheptel',\n",
       "       'Vie du laboratoire (Alimentation, aménagement, loisirs, bâtiment)',\n",
       "       'Services', 'Transport / Hébergement',\n",
       "       'Consommables (Matières premières, produits chimiques/biologiques et organismes vivants)',\n",
       "       'Matériel et instruments de laboratoire',\n",
       "       'Réparations et maintenance', 'Informatique-audiovisuel', 'avion',\n",
       "       'ferroviaire', 'bus', 'bateau'], dtype=object)"
      ]
     },
     "execution_count": 5,
     "metadata": {},
     "output_type": "execute_result"
    }
   ],
   "source": [
    "tableau_nacres['subcategory'].unique()"
   ]
  },
  {
   "cell_type": "code",
   "execution_count": 6,
   "metadata": {},
   "outputs": [
    {
     "name": "stderr",
     "output_type": "stream",
     "text": [
      "/var/folders/sk/m9jkmr4n1k5dqc3wj_f53p4r0000gp/T/ipykernel_31350/1732958659.py:1: PerformanceWarning: \n",
      "your performance may suffer as PyTables will pickle object types that it cannot\n",
      "map directly to c-types [inferred_type->mixed,key->block2_values] [items->Index(['category', 'subcategory', 'subsubcategory', 'unit', 'name', 'ef.unit'], dtype='object')]\n",
      "\n",
      "  tableau_nacres.to_hdf('../data_base_GES1point5/data_base_GES1point5.hdf5', key='data', mode='w')\n"
     ]
    }
   ],
   "source": [
    "tableau_nacres.to_hdf('../data_base_GES1point5/data_base_GES1point5.hdf5', key='data', mode='w')"
   ]
  },
  {
   "cell_type": "code",
   "execution_count": 7,
   "metadata": {},
   "outputs": [
    {
     "data": {
      "text/html": [
       "<div>\n",
       "<style scoped>\n",
       "    .dataframe tbody tr th:only-of-type {\n",
       "        vertical-align: middle;\n",
       "    }\n",
       "\n",
       "    .dataframe tbody tr th {\n",
       "        vertical-align: top;\n",
       "    }\n",
       "\n",
       "    .dataframe thead th {\n",
       "        text-align: right;\n",
       "    }\n",
       "</style>\n",
       "<table border=\"1\" class=\"dataframe\">\n",
       "  <thead>\n",
       "    <tr style=\"text-align: right;\">\n",
       "      <th></th>\n",
       "      <th>category</th>\n",
       "      <th>subcategory</th>\n",
       "      <th>subsubcategory</th>\n",
       "      <th>unit</th>\n",
       "      <th>name</th>\n",
       "      <th>year</th>\n",
       "      <th>co2</th>\n",
       "      <th>ch4</th>\n",
       "      <th>n2o</th>\n",
       "      <th>other</th>\n",
       "      <th>total</th>\n",
       "      <th>uncertainty</th>\n",
       "      <th>ef.unit</th>\n",
       "    </tr>\n",
       "  </thead>\n",
       "  <tbody>\n",
       "    <tr>\n",
       "      <th>0</th>\n",
       "      <td>Électricité</td>\n",
       "      <td>FR</td>\n",
       "      <td>NaN</td>\n",
       "      <td>kWh</td>\n",
       "      <td>Electricité France continentale</td>\n",
       "      <td>2022</td>\n",
       "      <td>0.0</td>\n",
       "      <td>0.0</td>\n",
       "      <td>0.0</td>\n",
       "      <td>0</td>\n",
       "      <td>0.0520</td>\n",
       "      <td>0.10</td>\n",
       "      <td>kg eCO2/kWh</td>\n",
       "    </tr>\n",
       "    <tr>\n",
       "      <th>1</th>\n",
       "      <td>Électricité</td>\n",
       "      <td>FR.94</td>\n",
       "      <td>NaN</td>\n",
       "      <td>kWh</td>\n",
       "      <td>Electricité Corse</td>\n",
       "      <td>2014</td>\n",
       "      <td>0.0</td>\n",
       "      <td>0.0</td>\n",
       "      <td>0.0</td>\n",
       "      <td>0</td>\n",
       "      <td>0.5937</td>\n",
       "      <td>0.15</td>\n",
       "      <td>kg eCO2/kWh</td>\n",
       "    </tr>\n",
       "    <tr>\n",
       "      <th>2</th>\n",
       "      <td>Électricité</td>\n",
       "      <td>PM</td>\n",
       "      <td>NaN</td>\n",
       "      <td>kWh</td>\n",
       "      <td>Electricité St Pierre et Miquelon</td>\n",
       "      <td>2017</td>\n",
       "      <td>0.0</td>\n",
       "      <td>0.0</td>\n",
       "      <td>0.0</td>\n",
       "      <td>0</td>\n",
       "      <td>0.9438</td>\n",
       "      <td>0.15</td>\n",
       "      <td>kg eCO2/kWh</td>\n",
       "    </tr>\n",
       "    <tr>\n",
       "      <th>3</th>\n",
       "      <td>Électricité</td>\n",
       "      <td>WF</td>\n",
       "      <td>NaN</td>\n",
       "      <td>kWh</td>\n",
       "      <td>Electricité Wallis-et-Futuna (identique à St P...</td>\n",
       "      <td>2017</td>\n",
       "      <td>0.0</td>\n",
       "      <td>0.0</td>\n",
       "      <td>0.0</td>\n",
       "      <td>0</td>\n",
       "      <td>0.9438</td>\n",
       "      <td>0.15</td>\n",
       "      <td>kg eCO2/kWh</td>\n",
       "    </tr>\n",
       "    <tr>\n",
       "      <th>4</th>\n",
       "      <td>Électricité</td>\n",
       "      <td>TF</td>\n",
       "      <td>NaN</td>\n",
       "      <td>kWh</td>\n",
       "      <td>Electricité Terres australes françaises (ident...</td>\n",
       "      <td>2017</td>\n",
       "      <td>0.0</td>\n",
       "      <td>0.0</td>\n",
       "      <td>0.0</td>\n",
       "      <td>0</td>\n",
       "      <td>0.9438</td>\n",
       "      <td>0.15</td>\n",
       "      <td>kg eCO2/kWh</td>\n",
       "    </tr>\n",
       "    <tr>\n",
       "      <th>...</th>\n",
       "      <td>...</td>\n",
       "      <td>...</td>\n",
       "      <td>...</td>\n",
       "      <td>...</td>\n",
       "      <td>...</td>\n",
       "      <td>...</td>\n",
       "      <td>...</td>\n",
       "      <td>...</td>\n",
       "      <td>...</td>\n",
       "      <td>...</td>\n",
       "      <td>...</td>\n",
       "      <td>...</td>\n",
       "      <td>...</td>\n",
       "    </tr>\n",
       "    <tr>\n",
       "      <th>1635</th>\n",
       "      <td>Véhicules</td>\n",
       "      <td>bus</td>\n",
       "      <td>bus.intercity</td>\n",
       "      <td>km</td>\n",
       "      <td>Autocar - trajets intercités</td>\n",
       "      <td>2021</td>\n",
       "      <td>0.0</td>\n",
       "      <td>0.0</td>\n",
       "      <td>0.0</td>\n",
       "      <td>0</td>\n",
       "      <td>0.0306</td>\n",
       "      <td>0.60</td>\n",
       "      <td>kg eCO2/km</td>\n",
       "    </tr>\n",
       "    <tr>\n",
       "      <th>1636</th>\n",
       "      <td>Véhicules</td>\n",
       "      <td>bus</td>\n",
       "      <td>Bus &gt; 250 000 habitants</td>\n",
       "      <td>km</td>\n",
       "      <td>Autobus moyen - Agglomération de plus de 250 0...</td>\n",
       "      <td>2021</td>\n",
       "      <td>0.0</td>\n",
       "      <td>0.0</td>\n",
       "      <td>0.0</td>\n",
       "      <td>0</td>\n",
       "      <td>0.1290</td>\n",
       "      <td>0.60</td>\n",
       "      <td>kg eCO2/km</td>\n",
       "    </tr>\n",
       "    <tr>\n",
       "      <th>1637</th>\n",
       "      <td>Véhicules</td>\n",
       "      <td>bus</td>\n",
       "      <td>Bus 100 000 - 250 000 habitants</td>\n",
       "      <td>km</td>\n",
       "      <td>Autobus moyen - Agglomération de 100 000 à 250...</td>\n",
       "      <td>2021</td>\n",
       "      <td>0.0</td>\n",
       "      <td>0.0</td>\n",
       "      <td>0.0</td>\n",
       "      <td>0</td>\n",
       "      <td>0.1370</td>\n",
       "      <td>0.60</td>\n",
       "      <td>kg eCO2/km</td>\n",
       "    </tr>\n",
       "    <tr>\n",
       "      <th>1638</th>\n",
       "      <td>Véhicules</td>\n",
       "      <td>bus</td>\n",
       "      <td>Bus &lt; 100 000 habitants</td>\n",
       "      <td>km</td>\n",
       "      <td>Autobus moyen - Agglomération moins de 100 000...</td>\n",
       "      <td>2021</td>\n",
       "      <td>0.0</td>\n",
       "      <td>0.0</td>\n",
       "      <td>0.0</td>\n",
       "      <td>0</td>\n",
       "      <td>0.1460</td>\n",
       "      <td>0.60</td>\n",
       "      <td>kg eCO2/km</td>\n",
       "    </tr>\n",
       "    <tr>\n",
       "      <th>1639</th>\n",
       "      <td>Véhicules</td>\n",
       "      <td>bateau</td>\n",
       "      <td>Ferry</td>\n",
       "      <td>km</td>\n",
       "      <td>Ferry de jour</td>\n",
       "      <td>2019</td>\n",
       "      <td>0.0</td>\n",
       "      <td>0.0</td>\n",
       "      <td>0.0</td>\n",
       "      <td>0</td>\n",
       "      <td>0.9790</td>\n",
       "      <td>0.60</td>\n",
       "      <td>kg eCO2/km</td>\n",
       "    </tr>\n",
       "  </tbody>\n",
       "</table>\n",
       "<p>1640 rows × 13 columns</p>\n",
       "</div>"
      ],
      "text/plain": [
       "         category subcategory                   subsubcategory unit  \\\n",
       "0     Électricité          FR                              NaN  kWh   \n",
       "1     Électricité       FR.94                              NaN  kWh   \n",
       "2     Électricité          PM                              NaN  kWh   \n",
       "3     Électricité          WF                              NaN  kWh   \n",
       "4     Électricité          TF                              NaN  kWh   \n",
       "...           ...         ...                              ...  ...   \n",
       "1635    Véhicules         bus                    bus.intercity   km   \n",
       "1636    Véhicules         bus          Bus > 250 000 habitants   km   \n",
       "1637    Véhicules         bus  Bus 100 000 - 250 000 habitants   km   \n",
       "1638    Véhicules         bus          Bus < 100 000 habitants   km   \n",
       "1639    Véhicules      bateau                            Ferry   km   \n",
       "\n",
       "                                                   name  year  co2  ch4  n2o  \\\n",
       "0                       Electricité France continentale  2022  0.0  0.0  0.0   \n",
       "1                                     Electricité Corse  2014  0.0  0.0  0.0   \n",
       "2                     Electricité St Pierre et Miquelon  2017  0.0  0.0  0.0   \n",
       "3     Electricité Wallis-et-Futuna (identique à St P...  2017  0.0  0.0  0.0   \n",
       "4     Electricité Terres australes françaises (ident...  2017  0.0  0.0  0.0   \n",
       "...                                                 ...   ...  ...  ...  ...   \n",
       "1635                       Autocar - trajets intercités  2021  0.0  0.0  0.0   \n",
       "1636  Autobus moyen - Agglomération de plus de 250 0...  2021  0.0  0.0  0.0   \n",
       "1637  Autobus moyen - Agglomération de 100 000 à 250...  2021  0.0  0.0  0.0   \n",
       "1638  Autobus moyen - Agglomération moins de 100 000...  2021  0.0  0.0  0.0   \n",
       "1639                                      Ferry de jour  2019  0.0  0.0  0.0   \n",
       "\n",
       "      other   total  uncertainty      ef.unit  \n",
       "0         0  0.0520         0.10  kg eCO2/kWh  \n",
       "1         0  0.5937         0.15  kg eCO2/kWh  \n",
       "2         0  0.9438         0.15  kg eCO2/kWh  \n",
       "3         0  0.9438         0.15  kg eCO2/kWh  \n",
       "4         0  0.9438         0.15  kg eCO2/kWh  \n",
       "...     ...     ...          ...          ...  \n",
       "1635      0  0.0306         0.60   kg eCO2/km  \n",
       "1636      0  0.1290         0.60   kg eCO2/km  \n",
       "1637      0  0.1370         0.60   kg eCO2/km  \n",
       "1638      0  0.1460         0.60   kg eCO2/km  \n",
       "1639      0  0.9790         0.60   kg eCO2/km  \n",
       "\n",
       "[1640 rows x 13 columns]"
      ]
     },
     "execution_count": 7,
     "metadata": {},
     "output_type": "execute_result"
    }
   ],
   "source": [
    "tableau_nacres"
   ]
  },
  {
   "cell_type": "code",
   "execution_count": null,
   "metadata": {},
   "outputs": [],
   "source": []
  }
 ],
 "metadata": {
  "kernelspec": {
   "display_name": "LABeCO2_env_test",
   "language": "python",
   "name": "python3"
  },
  "language_info": {
   "codemirror_mode": {
    "name": "ipython",
    "version": 3
   },
   "file_extension": ".py",
   "mimetype": "text/x-python",
   "name": "python",
   "nbconvert_exporter": "python",
   "pygments_lexer": "ipython3",
   "version": "3.11.11"
  }
 },
 "nbformat": 4,
 "nbformat_minor": 2
}
